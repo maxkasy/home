{
 "cells": [
  {
   "cell_type": "markdown",
   "id": "8cf585db-0d48-4caf-a98c-e47b4b4e7962",
   "metadata": {
    "editable": true,
    "slideshow": {
     "slide_type": ""
    },
    "tags": []
   },
   "source": [
    "# Thomson sampling in Python\n",
    "\n",
    "This notebook provides a step-by-step guide to implementing basic Thompson sampling in Python.\n",
    "\n",
    "Using this implementation, we will then run simulations, to test our theory results from class.\n",
    "\n",
    "We will use the `numpy` package for all our numerical calculations."
   ]
  },
  {
   "cell_type": "code",
   "execution_count": null,
   "id": "3ba6a62a-fd02-462b-8733-bd54de091487",
   "metadata": {
    "editable": true,
    "slideshow": {
     "slide_type": "slide"
    },
    "tags": []
   },
   "outputs": [],
   "source": [
    "import numpy as np"
   ]
  },
  {
   "cell_type": "markdown",
   "id": "40ed824f-37e5-4d99-b38b-15f69953a451",
   "metadata": {
    "editable": true,
    "slideshow": {
     "slide_type": ""
    },
    "tags": []
   },
   "source": [
    "Lets go over some preliminaries, to familiarize ourselves with the required commands.\n",
    "\n",
    "Assume we have three treatment arms 0, 1, 2, and two possible outcomes, 0, 1.\n",
    "\n",
    "To get started, define two example vectors of treatment values and outcome values.\n",
    "\n",
    "We just use these for illustration, and to develop our implementation."
   ]
  },
  {
   "cell_type": "code",
   "execution_count": null,
   "id": "60f1d34f-a69d-40b5-9130-677ac90df925",
   "metadata": {
    "editable": true,
    "slideshow": {
     "slide_type": ""
    },
    "tags": []
   },
   "outputs": [],
   "source": [
    "treatments = np.array([0,1,0,1,0,2])\n",
    "outcomes   = np.array([0,0,0,1,0,1])"
   ]
  },
  {
   "cell_type": "markdown",
   "id": "09c4f37c-85e5-4c73-81f3-8cf84d5c6482",
   "metadata": {},
   "source": [
    "Which observations have treatment value 1?"
   ]
  },
  {
   "cell_type": "code",
   "execution_count": null,
   "id": "5b86b8da-4c56-4849-9c5e-f095c31ffb25",
   "metadata": {
    "editable": true,
    "slideshow": {
     "slide_type": ""
    },
    "tags": []
   },
   "outputs": [],
   "source": [
    "np.equal(treatments, 1)"
   ]
  },
  {
   "cell_type": "markdown",
   "id": "84daaf5e-421d-4bcf-9802-ce1d6585298c",
   "metadata": {},
   "source": [
    "What were the outcomes for these observations?"
   ]
  },
  {
   "cell_type": "code",
   "execution_count": null,
   "id": "ec9bddbf-cb1a-4a51-b486-926fc219495d",
   "metadata": {
    "editable": true,
    "slideshow": {
     "slide_type": ""
    },
    "tags": []
   },
   "outputs": [],
   "source": [
    "outcomes[np.equal(treatments, 1)]"
   ]
  },
  {
   "cell_type": "markdown",
   "id": "de59e236-2aa7-423c-a655-1dc3b5410ad2",
   "metadata": {},
   "source": [
    "What is the total number of successes (outcome 1) for these observations?"
   ]
  },
  {
   "cell_type": "code",
   "execution_count": null,
   "id": "eb959205-0f66-4e3a-99bb-dfeefcf534e1",
   "metadata": {
    "editable": true,
    "slideshow": {
     "slide_type": ""
    },
    "tags": []
   },
   "outputs": [],
   "source": [
    "np.sum(outcomes[np.equal(treatments, 1)])"
   ]
  },
  {
   "cell_type": "markdown",
   "id": "a616a832-9774-45ec-9ab4-3c0e3bf9a15d",
   "metadata": {},
   "source": [
    "What is the total number of failures (outcome 1) for these observations?"
   ]
  },
  {
   "cell_type": "code",
   "execution_count": null,
   "id": "5de8e3c9-2b17-43bf-bd4c-c7df1531eae3",
   "metadata": {
    "editable": true,
    "slideshow": {
     "slide_type": ""
    },
    "tags": []
   },
   "outputs": [],
   "source": [
    "np.sum(1 - outcomes[np.equal(treatments, 1)])"
   ]
  },
  {
   "cell_type": "markdown",
   "id": "1f6e80de-25cf-4361-899a-a27b89a9cb4d",
   "metadata": {},
   "source": [
    "Now count total successes and total failures for each treatment arm.\n",
    "\n",
    "The following uses Python's elegant list comprehension syntax, instead of a loop over the `k` treatment arms."
   ]
  },
  {
   "cell_type": "code",
   "execution_count": null,
   "id": "37a54f13-6653-4a34-9816-bc7285d5f28d",
   "metadata": {
    "editable": true,
    "slideshow": {
     "slide_type": ""
    },
    "tags": []
   },
   "outputs": [],
   "source": [
    "k = 3\n",
    "successes = np.array([np.sum(    outcomes[np.equal(treatments, d)]) for d in range(k)])\n",
    "failures  = np.array([np.sum(1 - outcomes[np.equal(treatments, d)]) for d in range(k)])\n",
    "\n",
    "print(successes)\n",
    "print(failures)"
   ]
  },
  {
   "cell_type": "markdown",
   "id": "1f2d6b43-d616-4b26-82b5-863328b37df4",
   "metadata": {},
   "source": [
    "Generate a random draw from the beta distribution with parameters 1 and 2."
   ]
  },
  {
   "cell_type": "code",
   "execution_count": null,
   "id": "df065dfe-97a3-4849-af08-83578e042525",
   "metadata": {},
   "outputs": [],
   "source": [
    "np.random.beta(1, 2)"
   ]
  },
  {
   "cell_type": "markdown",
   "id": "9e2f139f-0769-47d9-b0f2-baad0038ce69",
   "metadata": {
    "editable": true,
    "slideshow": {
     "slide_type": ""
    },
    "tags": []
   },
   "source": [
    "Assume a uniform prior for each treatment arm.\n",
    "\n",
    "Thenthe true mean has a posterior distribution which is a Beta distribution with parameters given by:\n",
    "`1 + successes`, `1 + failures`. \n",
    "\n",
    "For example, for treatment 2 in the above example we have a Beta(2,1) posterior.\n",
    "\n",
    "We can sample one draw from the posterior for each arm as follows, since numpy functions are vectorized."
   ]
  },
  {
   "cell_type": "code",
   "execution_count": null,
   "id": "1173239e-ea09-42ec-9aff-799a967643a4",
   "metadata": {},
   "outputs": [],
   "source": [
    "posterior_draw = np.random.beta(1 + successes, 1 + failures)\n",
    "print(posterior_draw)"
   ]
  },
  {
   "cell_type": "markdown",
   "id": "e589db8c-c4f4-483b-95fe-629c10277f52",
   "metadata": {},
   "source": [
    "Which of these draws is the largest? (remember that Python indices start at 0.)"
   ]
  },
  {
   "cell_type": "code",
   "execution_count": null,
   "id": "3dc6d37c-89e4-4118-a910-af03188a17f7",
   "metadata": {},
   "outputs": [],
   "source": [
    "np.argmax(posterior_draw)"
   ]
  },
  {
   "cell_type": "markdown",
   "id": "8405fc4a-a756-4bf3-9e08-2664087a062b",
   "metadata": {
    "editable": true,
    "slideshow": {
     "slide_type": ""
    },
    "tags": []
   },
   "source": [
    "Now we are ready to put everything together into one function.\n",
    "\n",
    "This function takes vectors of treatment values and outcomes, and returns a treatment value according to Thompson sampling."
   ]
  },
  {
   "cell_type": "code",
   "execution_count": null,
   "id": "a3ce24cd-5143-4642-a098-b96097d81928",
   "metadata": {
    "editable": true,
    "slideshow": {
     "slide_type": "slide"
    },
    "tags": []
   },
   "outputs": [],
   "source": [
    "def thompson(outcomes, treatments, k):\n",
    "    '''Given a vector of binary outcomes and discrete treatments,\n",
    "        return a treatment value according to Thompson sampling.'''\n",
    "    \n",
    "    successes = np.array([np.sum(    outcomes[np.equal(treatments, d)]) for d in range(k)])\n",
    "    failures  = np.array([np.sum(1 - outcomes[np.equal(treatments, d)]) for d in range(k)])\n",
    "    \n",
    "    posterior_draw = np.random.beta(1 + successes, 1 + failures)\n",
    "    return np.argmax(posterior_draw)"
   ]
  },
  {
   "cell_type": "markdown",
   "id": "bfabae0d-2dd3-4f6b-b2d7-d3716d18b2ea",
   "metadata": {},
   "source": [
    "Now let's test this function. \n",
    "\n",
    "Every time we call it, it should return a treatment value, which we should assign to the next unit, according to Thompson sampling."
   ]
  },
  {
   "cell_type": "code",
   "execution_count": null,
   "id": "5c09c2de-3a7d-4889-a6f5-fe723f81081e",
   "metadata": {},
   "outputs": [],
   "source": [
    "thompson(outcomes, treatments, k)"
   ]
  },
  {
   "cell_type": "markdown",
   "id": "9b3886b5-2d6c-43aa-8c2a-6b2025349ff0",
   "metadata": {},
   "source": [
    "Let's do that again. Thompson sampling returns a random treatment, so the answer might be different each time."
   ]
  },
  {
   "cell_type": "code",
   "execution_count": null,
   "id": "acd65d8e-7765-41aa-b530-1356def890a4",
   "metadata": {},
   "outputs": [],
   "source": [
    "thompson(outcomes, treatments, k)"
   ]
  },
  {
   "cell_type": "markdown",
   "id": "f3cc2ff5-b956-4758-9cb5-cbf4dc3ad072",
   "metadata": {},
   "source": [
    "# Code for simulations\n",
    "\n",
    "The function we just built is all unit to run an experiment using Thompson sampling.\n",
    "\n",
    "But to simulate how well Thompson sampling performs, we need to do more work.\n",
    "Let's first build a function which simulates outcomes according to the parameter vector $\\theta$, and assigns treatment according to Thompson sampling.\n",
    "\n",
    "We can simulate outcomes using `np.random.binomial`.\n",
    "The following does so for an example of $\\theta$."
   ]
  },
  {
   "cell_type": "code",
   "execution_count": null,
   "id": "ada8b161-f4c5-4666-8ffa-dd0b7cf422a0",
   "metadata": {},
   "outputs": [],
   "source": [
    "theta = np.array([.2,.5,.8])\n",
    "treatment = 2\n",
    "np.random.binomial(1, theta[treatment])"
   ]
  },
  {
   "cell_type": "markdown",
   "id": "67ef8fd5-c0a7-407e-87c4-742aa109a1e5",
   "metadata": {},
   "source": [
    "We can pre-allocate memory by using `np.empty`. This is good practice for faster computation."
   ]
  },
  {
   "cell_type": "code",
   "execution_count": null,
   "id": "e8273e04-5508-4a05-accf-93405ca8a990",
   "metadata": {},
   "outputs": [],
   "source": [
    "np.empty(10, dtype = np.int8)"
   ]
  },
  {
   "cell_type": "markdown",
   "id": "677ba78b-1a49-42f7-a527-3524afac3f82",
   "metadata": {},
   "source": [
    "To simulate a trajectory of treatments and outcomes, we need to loop over time periods `t` going from 1 to `T`.\n",
    "\n",
    "In each time period the `thompson` function uses the trajectory generated thus far, to give a new treatment assignment.\n",
    "\n",
    "The outcome is then simulated using this assigned treatment.\n",
    "\n",
    "The function returns trajectories of treatment, outcome, and expected outcome for each time period, stored in a matrix."
   ]
  },
  {
   "cell_type": "code",
   "execution_count": null,
   "id": "9f4d953a-f8b9-4d67-acb9-6ce346eac667",
   "metadata": {
    "editable": true,
    "slideshow": {
     "slide_type": "slide"
    },
    "tags": []
   },
   "outputs": [],
   "source": [
    "def simulate_thompson_path(theta, T):\n",
    "    '''Given a vector of expected potential outcomes, \n",
    "        simulate a path of outcomes and treatments according to Thompson sampling.'''\n",
    "    \n",
    "    k = len(theta)\n",
    "    treatment = np.empty(T, dtype = np.int8)\n",
    "    outcome =   np.empty(T, dtype = np.int8)\n",
    "    \n",
    "    for t in range(T):\n",
    "        treatment[t] = thompson(outcome[range(t-1)], treatment[range(t-1)], k) \n",
    "        outcome[t] = np.random.binomial(1, theta[treatment[t]])\n",
    "\n",
    "    return np.array([treatment, outcome, theta[treatment]])"
   ]
  },
  {
   "cell_type": "markdown",
   "id": "ea615c76-1114-44ab-b42b-eb7564b546e7",
   "metadata": {},
   "source": [
    "Let's test this function."
   ]
  },
  {
   "cell_type": "code",
   "execution_count": null,
   "id": "37cb5232-b02e-4ce2-9abb-7d901b113b64",
   "metadata": {},
   "outputs": [],
   "source": [
    "theta = np.array([.2,.5,.8])\n",
    "T = 10\n",
    "print(simulate_thompson_path(theta, T))"
   ]
  },
  {
   "cell_type": "markdown",
   "id": "7adf2dc8-33f2-4219-906a-5eed175c125d",
   "metadata": {},
   "source": [
    "Now we want to set up simulations where we evaluate the performance of Thompson sampling.\n",
    "\n",
    "To do so, we want to run the simulation many times, from scratch, and to store the results.\n",
    "\n",
    "Any time you have to do the same computation many times, parallel processing is a good idea, to make things run faster.\n",
    "Parallel processing is easy in Python with the `multiprocess` package."
   ]
  },
  {
   "cell_type": "code",
   "execution_count": null,
   "id": "d3515485-e410-4a26-a3bf-f5902f624f6b",
   "metadata": {},
   "outputs": [],
   "source": [
    "from multiprocess import Pool"
   ]
  },
  {
   "cell_type": "markdown",
   "id": "861c04a4-0be4-4a86-8a37-ab52ebb85fd0",
   "metadata": {},
   "source": [
    "The following function uses `Pool` to repeatedly (`reps` times) run `simulate_thompson_path`.\n",
    "\n",
    "It stores the results in the list `paths`.\n",
    "\n",
    "It then returns the average across simulations. \n",
    "recall that we want to maximize the average of outcomes. If the algorithm works well, the average should go up over time."
   ]
  },
  {
   "cell_type": "code",
   "execution_count": null,
   "id": "064df640-c2af-4909-8f17-e2fa740a6427",
   "metadata": {
    "editable": true,
    "slideshow": {
     "slide_type": "slide"
    },
    "tags": []
   },
   "outputs": [],
   "source": [
    "def average_thompson_path(theta, T, reps = 5000):\n",
    "    '''Simulate reps replicate Thompson paths.'''\n",
    "    \n",
    "    with Pool() as pool:\n",
    "        paths = pool.map(lambda _: simulate_thompson_path(theta, T),\n",
    "                         range(reps))\n",
    "    return np.array(paths).mean(axis = 0)"
   ]
  },
  {
   "cell_type": "markdown",
   "id": "57025db1-15cf-4f32-99b0-f12aeffedb9c",
   "metadata": {},
   "source": [
    "Let's try it, for a small number of `reps` (just so it runs quickly)."
   ]
  },
  {
   "cell_type": "code",
   "execution_count": null,
   "id": "ee3287c9-3279-4f54-bc60-a3b0c42ee086",
   "metadata": {},
   "outputs": [],
   "source": [
    "average_thompson_path(theta, 80, reps = 100)"
   ]
  },
  {
   "cell_type": "markdown",
   "id": "138d8ae2-ecec-4659-9d61-0731573a6ee6",
   "metadata": {},
   "source": [
    "This is a bit hard to read.\n",
    "\n",
    "Let us instead plot the simulation output, using the Python library `matplotlib`."
   ]
  },
  {
   "cell_type": "code",
   "execution_count": null,
   "id": "e24d6f88-0906-4baa-96e0-423ac034346a",
   "metadata": {},
   "outputs": [],
   "source": [
    "import matplotlib.pyplot as plt\n",
    "plt.style.use('ggplot')"
   ]
  },
  {
   "cell_type": "markdown",
   "id": "2b1b3cfa-932f-444e-a0fc-638b944350da",
   "metadata": {},
   "source": [
    "The following function plots average regret across simulations, for each time period $t$.\n",
    "\n",
    "Recall that regret is defined as the difference between:\n",
    "\n",
    "1. The expected output for the best treatment, `max(theta)`, and\n",
    "2. the expected output for the chosen treatment, which we stored in `avg_thompson[2]`."
   ]
  },
  {
   "cell_type": "code",
   "execution_count": null,
   "id": "89951f13-3923-4b31-8c7f-55c4547c44f6",
   "metadata": {
    "editable": true,
    "slideshow": {
     "slide_type": "slide"
    },
    "tags": []
   },
   "outputs": [],
   "source": [
    "def plot_average_thompspon_path(avg_thompson, theta, T):\n",
    "    avg_thompson = average_thompson_path(theta, T)\n",
    "    regret = max(theta) - avg_thompson[2]\n",
    "    \n",
    "    plt.plot(range(T), regret)\n",
    "    plt.ylim(bottom = 0)\n",
    "    plt.xlabel('Time $t$')\n",
    "    plt.ylabel('Regret')\n",
    "    plt.title(f'Expected regret of Thompsons sampling for parameter vector {theta}')      "
   ]
  },
  {
   "cell_type": "markdown",
   "id": "4196dbdb-923a-4c8a-9b5c-52e376b15fed",
   "metadata": {},
   "source": [
    "# Generate plots\n",
    "\n",
    "Now we are ready to see how well Thompson sampling works for different values of $\\theta$, over time."
   ]
  },
  {
   "cell_type": "code",
   "execution_count": null,
   "id": "c48ba279-c25a-4f2a-802d-3b91141691d3",
   "metadata": {
    "editable": true,
    "slideshow": {
     "slide_type": "slide"
    },
    "tags": []
   },
   "outputs": [],
   "source": [
    "T = 80\n",
    "theta = np.array([.2,.5,.8])\n",
    "plot_average_thompspon_path(average_thompson_path(theta, T), \n",
    "                            theta, T)"
   ]
  },
  {
   "cell_type": "code",
   "execution_count": null,
   "id": "2f8745cd-ee9a-4a20-9771-5494752acd93",
   "metadata": {
    "editable": true,
    "slideshow": {
     "slide_type": "slide"
    },
    "tags": []
   },
   "outputs": [],
   "source": [
    "theta = np.array([.3,.4,.5,.6,.7])\n",
    "plot_average_thompspon_path(average_thompson_path(theta, T), \n",
    "                            theta, T)"
   ]
  },
  {
   "cell_type": "markdown",
   "id": "041dda79-ed22-442e-a6ef-db6ebd19e3ff",
   "metadata": {
    "editable": true,
    "slideshow": {
     "slide_type": "slide"
    },
    "tags": []
   },
   "source": [
    "# Regret as a function of $\\theta$\n",
    "\n",
    "In the theory lecture, we discussed how bandit problems are easy if the gap across arms is large or small, and hardest for intermediate values.\n",
    "\n",
    "Let's see how that plays out in simulations, for $T=200$.\n",
    "\n",
    "In the following we hold $\\theta_1$ fixed at 0.5, and vary the value of $\\theta_2$. \n",
    "\n",
    "For each value of $\\theta_2$, we run `average_thompson_path`.\n",
    "We then plot cumulative regret as a function of $\\theta_2$.\n",
    "\n",
    "This function takes a while to run, even on a fast computer. "
   ]
  },
  {
   "cell_type": "code",
   "execution_count": null,
   "id": "b95e11f1-95af-490f-adf3-23cbe5db727c",
   "metadata": {
    "editable": true,
    "slideshow": {
     "slide_type": ""
    },
    "tags": []
   },
   "outputs": [],
   "source": [
    "def cumulative_average_regret(T):\n",
    "    theta2s = np.linspace(0,1, 21)\n",
    "    paths = [np.max([.5, theta2]) - average_thompson_path(np.array([.5, theta2]), T) \n",
    "             for theta2 in theta2s]\n",
    "    regret_function =  np.array([np.mean(path[2]) for path in paths])\n",
    "\n",
    "    plt.plot(theta2s, regret_function)\n",
    "    plt.ylim(bottom = 0)\n",
    "    plt.xlabel('$\\\\theta_2$')\n",
    "    plt.ylabel('Regret')\n",
    "    plt.title(f'Expected regret of Thompsons sampling for different $\\\\theta_2$')"
   ]
  },
  {
   "cell_type": "code",
   "execution_count": null,
   "id": "18104791-c453-4002-8efa-8ef3e75464ba",
   "metadata": {
    "editable": true,
    "slideshow": {
     "slide_type": "slide"
    },
    "tags": []
   },
   "outputs": [],
   "source": [
    "cumulative_average_regret(200)"
   ]
  }
 ],
 "metadata": {
  "kernelspec": {
   "display_name": "Python 3 (ipykernel)",
   "language": "python",
   "name": "python3"
  },
  "language_info": {
   "codemirror_mode": {
    "name": "ipython",
    "version": 3
   },
   "file_extension": ".py",
   "mimetype": "text/x-python",
   "name": "python",
   "nbconvert_exporter": "python",
   "pygments_lexer": "ipython3",
   "version": "3.11.5"
  }
 },
 "nbformat": 4,
 "nbformat_minor": 5
}
